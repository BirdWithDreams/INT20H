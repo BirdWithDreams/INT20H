{
 "cells": [
  {
   "cell_type": "code",
   "execution_count": 73,
   "metadata": {
    "collapsed": true
   },
   "outputs": [],
   "source": [
    "import pandas as pd\n",
    "import numpy as np\n",
    "import torch\n",
    "from torch import nn\n",
    "\n",
    "from sklearn.model_selection import train_test_split"
   ]
  },
  {
   "cell_type": "code",
   "execution_count": 46,
   "outputs": [
    {
     "data": {
      "text/plain": "                         Id  node_start  node_finish  day_time    distance  \\\n0      -6374252502568484586       10096         2517        10    2.232533   \n1      -6374252502568484586       10103        11280        10   17.414917   \n2      -6374252502568484586       10104        13554        10   17.186843   \n3      -6374252502568484586       10117        18329        10   20.216909   \n4      -6374252502568484586       18329        13193        10  202.754917   \n...                     ...         ...          ...       ...         ...   \n401306 -8229597404562288405        7076        17753        11    4.847930   \n401307 -8229597404562288405        7083         7076        11  131.325685   \n401308 -8229597404562288405        7084         7083        11   44.026544   \n401309 -8229597404562288405        7077         7084        11    0.111226   \n401310 -8229597404562288405       19092         3953        11   91.817457   \n\n        speed  route_distance_km  delta_time  \n0        34.0              2.156       436.0  \n1        25.0              2.156       436.0  \n2        27.0              2.156       436.0  \n3        37.0              2.156       436.0  \n4        35.0              2.156       436.0  \n...       ...                ...         ...  \n401306   23.0              3.065       767.0  \n401307   26.0              3.065       767.0  \n401308   38.0              3.065       767.0  \n401309   34.0              3.065       767.0  \n401310   27.0              3.065       767.0  \n\n[401311 rows x 8 columns]",
      "text/html": "<div>\n<style scoped>\n    .dataframe tbody tr th:only-of-type {\n        vertical-align: middle;\n    }\n\n    .dataframe tbody tr th {\n        vertical-align: top;\n    }\n\n    .dataframe thead th {\n        text-align: right;\n    }\n</style>\n<table border=\"1\" class=\"dataframe\">\n  <thead>\n    <tr style=\"text-align: right;\">\n      <th></th>\n      <th>Id</th>\n      <th>node_start</th>\n      <th>node_finish</th>\n      <th>day_time</th>\n      <th>distance</th>\n      <th>speed</th>\n      <th>route_distance_km</th>\n      <th>delta_time</th>\n    </tr>\n  </thead>\n  <tbody>\n    <tr>\n      <th>0</th>\n      <td>-6374252502568484586</td>\n      <td>10096</td>\n      <td>2517</td>\n      <td>10</td>\n      <td>2.232533</td>\n      <td>34.0</td>\n      <td>2.156</td>\n      <td>436.0</td>\n    </tr>\n    <tr>\n      <th>1</th>\n      <td>-6374252502568484586</td>\n      <td>10103</td>\n      <td>11280</td>\n      <td>10</td>\n      <td>17.414917</td>\n      <td>25.0</td>\n      <td>2.156</td>\n      <td>436.0</td>\n    </tr>\n    <tr>\n      <th>2</th>\n      <td>-6374252502568484586</td>\n      <td>10104</td>\n      <td>13554</td>\n      <td>10</td>\n      <td>17.186843</td>\n      <td>27.0</td>\n      <td>2.156</td>\n      <td>436.0</td>\n    </tr>\n    <tr>\n      <th>3</th>\n      <td>-6374252502568484586</td>\n      <td>10117</td>\n      <td>18329</td>\n      <td>10</td>\n      <td>20.216909</td>\n      <td>37.0</td>\n      <td>2.156</td>\n      <td>436.0</td>\n    </tr>\n    <tr>\n      <th>4</th>\n      <td>-6374252502568484586</td>\n      <td>18329</td>\n      <td>13193</td>\n      <td>10</td>\n      <td>202.754917</td>\n      <td>35.0</td>\n      <td>2.156</td>\n      <td>436.0</td>\n    </tr>\n    <tr>\n      <th>...</th>\n      <td>...</td>\n      <td>...</td>\n      <td>...</td>\n      <td>...</td>\n      <td>...</td>\n      <td>...</td>\n      <td>...</td>\n      <td>...</td>\n    </tr>\n    <tr>\n      <th>401306</th>\n      <td>-8229597404562288405</td>\n      <td>7076</td>\n      <td>17753</td>\n      <td>11</td>\n      <td>4.847930</td>\n      <td>23.0</td>\n      <td>3.065</td>\n      <td>767.0</td>\n    </tr>\n    <tr>\n      <th>401307</th>\n      <td>-8229597404562288405</td>\n      <td>7083</td>\n      <td>7076</td>\n      <td>11</td>\n      <td>131.325685</td>\n      <td>26.0</td>\n      <td>3.065</td>\n      <td>767.0</td>\n    </tr>\n    <tr>\n      <th>401308</th>\n      <td>-8229597404562288405</td>\n      <td>7084</td>\n      <td>7083</td>\n      <td>11</td>\n      <td>44.026544</td>\n      <td>38.0</td>\n      <td>3.065</td>\n      <td>767.0</td>\n    </tr>\n    <tr>\n      <th>401309</th>\n      <td>-8229597404562288405</td>\n      <td>7077</td>\n      <td>7084</td>\n      <td>11</td>\n      <td>0.111226</td>\n      <td>34.0</td>\n      <td>3.065</td>\n      <td>767.0</td>\n    </tr>\n    <tr>\n      <th>401310</th>\n      <td>-8229597404562288405</td>\n      <td>19092</td>\n      <td>3953</td>\n      <td>11</td>\n      <td>91.817457</td>\n      <td>27.0</td>\n      <td>3.065</td>\n      <td>767.0</td>\n    </tr>\n  </tbody>\n</table>\n<p>401311 rows × 8 columns</p>\n</div>"
     },
     "execution_count": 46,
     "metadata": {},
     "output_type": "execute_result"
    }
   ],
   "source": [
    "train_df = pd.read_csv('train.csv')\n",
    "train_df"
   ],
   "metadata": {
    "collapsed": false
   }
  },
  {
   "cell_type": "code",
   "execution_count": 67,
   "outputs": [
    {
     "data": {
      "text/plain": "                         Id  node_start  node_finish  day_time  distance  \\\n0      -6374252502568484586       10096         2517        10  0.001569   \n1      -6374252502568484586       10103        11280        10  0.012615   \n2      -6374252502568484586       10104        13554        10  0.012449   \n3      -6374252502568484586       10117        18329        10  0.014654   \n4      -6374252502568484586       18329        13193        10  0.147463   \n...                     ...         ...          ...       ...       ...   \n401306 -8229597404562288405        7076        17753        11  0.003472   \n401307 -8229597404562288405        7083         7076        11  0.095493   \n401308 -8229597404562288405        7084         7083        11  0.031977   \n401309 -8229597404562288405        7077         7084        11  0.000025   \n401310 -8229597404562288405       19092         3953        11  0.066748   \n\n           speed  route_distance_km  delta_time  \n0       0.305263           0.135139       436.0  \n1       0.210526           0.135139       436.0  \n2       0.231579           0.135139       436.0  \n3       0.336842           0.135139       436.0  \n4       0.315789           0.135139       436.0  \n...          ...                ...         ...  \n401306  0.189474           0.192115       767.0  \n401307  0.221053           0.192115       767.0  \n401308  0.347368           0.192115       767.0  \n401309  0.305263           0.192115       767.0  \n401310  0.231579           0.192115       767.0  \n\n[401311 rows x 8 columns]",
      "text/html": "<div>\n<style scoped>\n    .dataframe tbody tr th:only-of-type {\n        vertical-align: middle;\n    }\n\n    .dataframe tbody tr th {\n        vertical-align: top;\n    }\n\n    .dataframe thead th {\n        text-align: right;\n    }\n</style>\n<table border=\"1\" class=\"dataframe\">\n  <thead>\n    <tr style=\"text-align: right;\">\n      <th></th>\n      <th>Id</th>\n      <th>node_start</th>\n      <th>node_finish</th>\n      <th>day_time</th>\n      <th>distance</th>\n      <th>speed</th>\n      <th>route_distance_km</th>\n      <th>delta_time</th>\n    </tr>\n  </thead>\n  <tbody>\n    <tr>\n      <th>0</th>\n      <td>-6374252502568484586</td>\n      <td>10096</td>\n      <td>2517</td>\n      <td>10</td>\n      <td>0.001569</td>\n      <td>0.305263</td>\n      <td>0.135139</td>\n      <td>436.0</td>\n    </tr>\n    <tr>\n      <th>1</th>\n      <td>-6374252502568484586</td>\n      <td>10103</td>\n      <td>11280</td>\n      <td>10</td>\n      <td>0.012615</td>\n      <td>0.210526</td>\n      <td>0.135139</td>\n      <td>436.0</td>\n    </tr>\n    <tr>\n      <th>2</th>\n      <td>-6374252502568484586</td>\n      <td>10104</td>\n      <td>13554</td>\n      <td>10</td>\n      <td>0.012449</td>\n      <td>0.231579</td>\n      <td>0.135139</td>\n      <td>436.0</td>\n    </tr>\n    <tr>\n      <th>3</th>\n      <td>-6374252502568484586</td>\n      <td>10117</td>\n      <td>18329</td>\n      <td>10</td>\n      <td>0.014654</td>\n      <td>0.336842</td>\n      <td>0.135139</td>\n      <td>436.0</td>\n    </tr>\n    <tr>\n      <th>4</th>\n      <td>-6374252502568484586</td>\n      <td>18329</td>\n      <td>13193</td>\n      <td>10</td>\n      <td>0.147463</td>\n      <td>0.315789</td>\n      <td>0.135139</td>\n      <td>436.0</td>\n    </tr>\n    <tr>\n      <th>...</th>\n      <td>...</td>\n      <td>...</td>\n      <td>...</td>\n      <td>...</td>\n      <td>...</td>\n      <td>...</td>\n      <td>...</td>\n      <td>...</td>\n    </tr>\n    <tr>\n      <th>401306</th>\n      <td>-8229597404562288405</td>\n      <td>7076</td>\n      <td>17753</td>\n      <td>11</td>\n      <td>0.003472</td>\n      <td>0.189474</td>\n      <td>0.192115</td>\n      <td>767.0</td>\n    </tr>\n    <tr>\n      <th>401307</th>\n      <td>-8229597404562288405</td>\n      <td>7083</td>\n      <td>7076</td>\n      <td>11</td>\n      <td>0.095493</td>\n      <td>0.221053</td>\n      <td>0.192115</td>\n      <td>767.0</td>\n    </tr>\n    <tr>\n      <th>401308</th>\n      <td>-8229597404562288405</td>\n      <td>7084</td>\n      <td>7083</td>\n      <td>11</td>\n      <td>0.031977</td>\n      <td>0.347368</td>\n      <td>0.192115</td>\n      <td>767.0</td>\n    </tr>\n    <tr>\n      <th>401309</th>\n      <td>-8229597404562288405</td>\n      <td>7077</td>\n      <td>7084</td>\n      <td>11</td>\n      <td>0.000025</td>\n      <td>0.305263</td>\n      <td>0.192115</td>\n      <td>767.0</td>\n    </tr>\n    <tr>\n      <th>401310</th>\n      <td>-8229597404562288405</td>\n      <td>19092</td>\n      <td>3953</td>\n      <td>11</td>\n      <td>0.066748</td>\n      <td>0.231579</td>\n      <td>0.192115</td>\n      <td>767.0</td>\n    </tr>\n  </tbody>\n</table>\n<p>401311 rows × 8 columns</p>\n</div>"
     },
     "execution_count": 67,
     "metadata": {},
     "output_type": "execute_result"
    }
   ],
   "source": [
    "min_ = train_df[['distance', 'speed', 'route_distance_km']].min()\n",
    "max_ = train_df[['distance', 'speed', 'route_distance_km']].max()\n",
    "train_df[['distance', 'speed', 'route_distance_km']] = (train_df[['distance', 'speed', 'route_distance_km']] - min_) / (max_ - min_)\n",
    "train_df"
   ],
   "metadata": {
    "collapsed": false
   }
  },
  {
   "cell_type": "code",
   "execution_count": 80,
   "outputs": [
    {
     "data": {
      "text/plain": "(distance             0.0\n speed                0.0\n route_distance_km    0.0\n dtype: float64,\n distance             1.0\n speed                1.0\n route_distance_km    1.0\n dtype: float64)"
     },
     "execution_count": 80,
     "metadata": {},
     "output_type": "execute_result"
    }
   ],
   "source": [
    "min_, max_"
   ],
   "metadata": {
    "collapsed": false
   }
  },
  {
   "cell_type": "code",
   "execution_count": 68,
   "outputs": [
    {
     "name": "stdout",
     "output_type": "stream",
     "text": [
      "<class 'pandas.core.frame.DataFrame'>\n",
      "RangeIndex: 401311 entries, 0 to 401310\n",
      "Data columns (total 8 columns):\n",
      " #   Column             Non-Null Count   Dtype  \n",
      "---  ------             --------------   -----  \n",
      " 0   Id                 401311 non-null  int64  \n",
      " 1   node_start         401311 non-null  int64  \n",
      " 2   node_finish        401311 non-null  int64  \n",
      " 3   day_time           401311 non-null  int64  \n",
      " 4   distance           401311 non-null  float64\n",
      " 5   speed              398043 non-null  float64\n",
      " 6   route_distance_km  401311 non-null  float64\n",
      " 7   delta_time         401311 non-null  float64\n",
      "dtypes: float64(4), int64(4)\n",
      "memory usage: 24.5 MB\n"
     ]
    }
   ],
   "source": [
    "train_df.fillna(0, inplace=True).info()"
   ],
   "metadata": {
    "collapsed": false
   }
  },
  {
   "cell_type": "code",
   "execution_count": null,
   "outputs": [],
   "source": [],
   "metadata": {
    "collapsed": false
   }
  },
  {
   "cell_type": "code",
   "execution_count": 48,
   "outputs": [],
   "source": [
    "node_emb_size = train_df['node_finish'].max() + 1\n",
    "node_emb_dim = 50\n",
    "\n",
    "hour_emb_size = train_df['day_time'].max() + 1\n",
    "hour_emb_dim = 50"
   ],
   "metadata": {
    "collapsed": false
   }
  },
  {
   "cell_type": "code",
   "execution_count": 49,
   "outputs": [],
   "source": [
    "class Model(nn.Module):\n",
    "    def __init__(self):\n",
    "        super().__init__()\n",
    "        self.node_emb = nn.Sequential(\n",
    "            nn.Embedding(node_emb_size, node_emb_dim),\n",
    "            nn.Linear(node_emb_dim, 128),\n",
    "            nn.ReLU(),\n",
    "        )\n",
    "\n",
    "        self.hour_emb = nn.Sequential(\n",
    "            nn.Embedding(hour_emb_size, hour_emb_dim),\n",
    "            nn.Linear(hour_emb_dim, 128),\n",
    "            nn.ReLU(),\n",
    "        )\n",
    "\n",
    "        self.fc1 = nn.Sequential(\n",
    "            nn.Linear(3, 64),\n",
    "            nn.ReLU(),\n",
    "\n",
    "            nn.Linear(64, 128),\n",
    "            nn.ReLU(),\n",
    "        )\n",
    "\n",
    "        self.fc2 = nn.Sequential(\n",
    "            nn.Linear(128, 64),\n",
    "            nn.ReLU(),\n",
    "\n",
    "            nn.Linear(64, 1),\n",
    "        )\n",
    "\n",
    "    def forward(self, x):\n",
    "        x1 = self.node_emb(x[:, :2]).sum(axis=2)\n",
    "\n",
    "        x2 = self.hour_emb(x[:, 2:3])\n",
    "        x3 = self.fc1(x[:, 3:])\n",
    "        return self.fc2(x1+x2+x3)"
   ],
   "metadata": {
    "collapsed": false
   }
  },
  {
   "cell_type": "code",
   "execution_count": 50,
   "outputs": [
    {
     "data": {
      "text/plain": "Id\n-9220688251826578095     83\n-9218029690111550526    110\n-9203204462098983368    156\n-9183832189489697758    129\n-9182793427449706037     78\n                       ... \n 9210081165830935160    161\n 9210110364218727646     99\n 9210371713303339999     95\n 9211624789772099086     45\n 9222286614781517942     49\nLength: 5000, dtype: int64"
     },
     "execution_count": 50,
     "metadata": {},
     "output_type": "execute_result"
    }
   ],
   "source": [
    "groups = train_df.groupby('Id')\n",
    "groups.size()"
   ],
   "metadata": {
    "collapsed": false
   }
  },
  {
   "cell_type": "code",
   "execution_count": 51,
   "outputs": [
    {
     "data": {
      "text/plain": "'cuda'"
     },
     "execution_count": 51,
     "metadata": {},
     "output_type": "execute_result"
    }
   ],
   "source": [
    "device = 'cuda' if torch.cuda.is_available() else 'cpu'\n",
    "device"
   ],
   "metadata": {
    "collapsed": false
   }
  },
  {
   "cell_type": "code",
   "execution_count": 65,
   "outputs": [],
   "source": [
    "def train(epochs, model, optim, loss):\n",
    "    for epoch in range(epochs):\n",
    "        print(f'Epoch {epoch}'.center(50, '='))\n",
    "        for i, group in enumerate(groups):\n",
    "            id_ = group[0]\n",
    "            X = group[1].to_numpy(dtype='float32')[2:]\n",
    "            y = train_df[train_df.Id == id_]['delta_time']\n",
    "\n",
    "            X = torch.tensor(X, device==device)\n",
    "            y = torch.tensor(y, device=device)\n",
    "\n",
    "            pred = model(X)\n",
    "            l = loss(pred, y)\n",
    "\n",
    "            optim.zero_grad()\n",
    "            l.backward()\n",
    "            optim.step()\n",
    "\n",
    "            if i % 100 == 0:\n",
    "                print(f'Batch: {i * 100}\\n'\n",
    "                      f'Loss: {l.item()}')\n"
   ],
   "metadata": {
    "collapsed": false
   }
  },
  {
   "cell_type": "code",
   "execution_count": 59,
   "outputs": [],
   "source": [
    "net = Model().to(device)\n",
    "opt = torch.optim.Adam(net.parameters(), lr=2e-4)"
   ],
   "metadata": {
    "collapsed": false
   }
  },
  {
   "cell_type": "code",
   "execution_count": 66,
   "outputs": [
    {
     "name": "stdout",
     "output_type": "stream",
     "text": [
      "=====================Epoch 0======================\n"
     ]
    },
    {
     "ename": "TypeError",
     "evalue": "tensor() takes 1 positional argument but 2 were given",
     "output_type": "error",
     "traceback": [
      "\u001B[1;31m---------------------------------------------------------------------------\u001B[0m",
      "\u001B[1;31mTypeError\u001B[0m                                 Traceback (most recent call last)",
      "Cell \u001B[1;32mIn[66], line 1\u001B[0m\n\u001B[1;32m----> 1\u001B[0m \u001B[43mtrain\u001B[49m\u001B[43m(\u001B[49m\u001B[38;5;241;43m5\u001B[39;49m\u001B[43m,\u001B[49m\u001B[43m \u001B[49m\u001B[43mnet\u001B[49m\u001B[43m,\u001B[49m\u001B[43m \u001B[49m\u001B[43mopt\u001B[49m\u001B[43m,\u001B[49m\u001B[43m \u001B[49m\u001B[43mnn\u001B[49m\u001B[38;5;241;43m.\u001B[39;49m\u001B[43mMSELoss\u001B[49m\u001B[43m(\u001B[49m\u001B[43m)\u001B[49m\u001B[43m)\u001B[49m\n",
      "Cell \u001B[1;32mIn[65], line 9\u001B[0m, in \u001B[0;36mtrain\u001B[1;34m(epochs, model, optim, loss)\u001B[0m\n\u001B[0;32m      6\u001B[0m X \u001B[38;5;241m=\u001B[39m group[\u001B[38;5;241m1\u001B[39m]\u001B[38;5;241m.\u001B[39mto_numpy(dtype\u001B[38;5;241m=\u001B[39m\u001B[38;5;124m'\u001B[39m\u001B[38;5;124mfloat32\u001B[39m\u001B[38;5;124m'\u001B[39m)[\u001B[38;5;241m2\u001B[39m:]\n\u001B[0;32m      7\u001B[0m y \u001B[38;5;241m=\u001B[39m train_df[train_df\u001B[38;5;241m.\u001B[39mId \u001B[38;5;241m==\u001B[39m id_][\u001B[38;5;124m'\u001B[39m\u001B[38;5;124mdelta_time\u001B[39m\u001B[38;5;124m'\u001B[39m]\n\u001B[1;32m----> 9\u001B[0m X \u001B[38;5;241m=\u001B[39m \u001B[43mtorch\u001B[49m\u001B[38;5;241;43m.\u001B[39;49m\u001B[43mtensor\u001B[49m\u001B[43m(\u001B[49m\u001B[43mX\u001B[49m\u001B[43m,\u001B[49m\u001B[43m \u001B[49m\u001B[43mdevice\u001B[49m\u001B[38;5;241;43m==\u001B[39;49m\u001B[43mdevice\u001B[49m\u001B[43m)\u001B[49m\n\u001B[0;32m     10\u001B[0m y \u001B[38;5;241m=\u001B[39m torch\u001B[38;5;241m.\u001B[39mtensor(y, device\u001B[38;5;241m=\u001B[39mdevice)\n\u001B[0;32m     12\u001B[0m pred \u001B[38;5;241m=\u001B[39m model(X)\n",
      "\u001B[1;31mTypeError\u001B[0m: tensor() takes 1 positional argument but 2 were given"
     ]
    }
   ],
   "source": [
    "train(5, net, opt, nn.MSELoss())"
   ],
   "metadata": {
    "collapsed": false
   }
  },
  {
   "cell_type": "code",
   "execution_count": 70,
   "outputs": [
    {
     "data": {
      "text/plain": "5000"
     },
     "execution_count": 70,
     "metadata": {},
     "output_type": "execute_result"
    }
   ],
   "source": [
    "len(list(groups))"
   ],
   "metadata": {
    "collapsed": false
   }
  },
  {
   "cell_type": "code",
   "execution_count": 72,
   "outputs": [
    {
     "data": {
      "text/plain": "272"
     },
     "execution_count": 72,
     "metadata": {},
     "output_type": "execute_result"
    }
   ],
   "source": [
    "groups['node_start'].count().max()"
   ],
   "metadata": {
    "collapsed": false
   }
  },
  {
   "cell_type": "code",
   "execution_count": 77,
   "outputs": [],
   "source": [
    "groups = train_df.groupby('Id')\n",
    "train, test = train_test_split(list(groups), test_size=0.1)"
   ],
   "metadata": {
    "collapsed": false
   }
  },
  {
   "cell_type": "code",
   "execution_count": 78,
   "outputs": [
    {
     "data": {
      "text/plain": "500"
     },
     "execution_count": 78,
     "metadata": {},
     "output_type": "execute_result"
    }
   ],
   "source": [
    "len(test)"
   ],
   "metadata": {
    "collapsed": false
   }
  },
  {
   "cell_type": "code",
   "execution_count": 79,
   "outputs": [
    {
     "ename": "AttributeError",
     "evalue": "'SeriesGroupBy' object has no attribute 'isna'",
     "output_type": "error",
     "traceback": [
      "\u001B[1;31m---------------------------------------------------------------------------\u001B[0m",
      "\u001B[1;31mAttributeError\u001B[0m                            Traceback (most recent call last)",
      "Cell \u001B[1;32mIn[79], line 1\u001B[0m\n\u001B[1;32m----> 1\u001B[0m groups[\u001B[43mgroups\u001B[49m\u001B[43m[\u001B[49m\u001B[38;5;124;43m'\u001B[39;49m\u001B[38;5;124;43mspeed\u001B[39;49m\u001B[38;5;124;43m'\u001B[39;49m\u001B[43m]\u001B[49m\u001B[38;5;241;43m.\u001B[39;49m\u001B[43misna\u001B[49m()] \u001B[38;5;241m=\u001B[39m groups[\u001B[38;5;124m'\u001B[39m\u001B[38;5;124mspeed\u001B[39m\u001B[38;5;124m'\u001B[39m]\u001B[38;5;241m.\u001B[39mmean()\n",
      "File \u001B[1;32mD:\\Programming\\Programs\\Python\\DS\\venv\\lib\\site-packages\\pandas\\core\\groupby\\groupby.py:987\u001B[0m, in \u001B[0;36mGroupBy.__getattr__\u001B[1;34m(self, attr)\u001B[0m\n\u001B[0;32m    984\u001B[0m \u001B[38;5;28;01mif\u001B[39;00m attr \u001B[38;5;129;01min\u001B[39;00m \u001B[38;5;28mself\u001B[39m\u001B[38;5;241m.\u001B[39mobj:\n\u001B[0;32m    985\u001B[0m     \u001B[38;5;28;01mreturn\u001B[39;00m \u001B[38;5;28mself\u001B[39m[attr]\n\u001B[1;32m--> 987\u001B[0m \u001B[38;5;28;01mraise\u001B[39;00m \u001B[38;5;167;01mAttributeError\u001B[39;00m(\n\u001B[0;32m    988\u001B[0m     \u001B[38;5;124mf\u001B[39m\u001B[38;5;124m\"\u001B[39m\u001B[38;5;124m'\u001B[39m\u001B[38;5;132;01m{\u001B[39;00m\u001B[38;5;28mtype\u001B[39m(\u001B[38;5;28mself\u001B[39m)\u001B[38;5;241m.\u001B[39m\u001B[38;5;18m__name__\u001B[39m\u001B[38;5;132;01m}\u001B[39;00m\u001B[38;5;124m'\u001B[39m\u001B[38;5;124m object has no attribute \u001B[39m\u001B[38;5;124m'\u001B[39m\u001B[38;5;132;01m{\u001B[39;00mattr\u001B[38;5;132;01m}\u001B[39;00m\u001B[38;5;124m'\u001B[39m\u001B[38;5;124m\"\u001B[39m\n\u001B[0;32m    989\u001B[0m )\n",
      "\u001B[1;31mAttributeError\u001B[0m: 'SeriesGroupBy' object has no attribute 'isna'"
     ]
    }
   ],
   "source": [
    "groups[groups['speed'].isna()] = groups['speed'].mean()"
   ],
   "metadata": {
    "collapsed": false
   }
  },
  {
   "cell_type": "code",
   "execution_count": null,
   "outputs": [],
   "source": [],
   "metadata": {
    "collapsed": false
   }
  }
 ],
 "metadata": {
  "kernelspec": {
   "display_name": "Python 3",
   "language": "python",
   "name": "python3"
  },
  "language_info": {
   "codemirror_mode": {
    "name": "ipython",
    "version": 2
   },
   "file_extension": ".py",
   "mimetype": "text/x-python",
   "name": "python",
   "nbconvert_exporter": "python",
   "pygments_lexer": "ipython2",
   "version": "2.7.6"
  }
 },
 "nbformat": 4,
 "nbformat_minor": 0
}
